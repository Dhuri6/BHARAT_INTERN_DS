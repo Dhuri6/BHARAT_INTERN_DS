{
 "cells": [
  {
   "cell_type": "markdown",
   "id": "827b0658",
   "metadata": {},
   "source": [
    "# Name: Sagar Suryakant Dhuri\n",
    "# Task 1: Stock Prediction"
   ]
  },
  {
   "cell_type": "code",
   "execution_count": 1,
   "id": "e1a22d01",
   "metadata": {},
   "outputs": [],
   "source": [
    "import os\n",
    "import numpy as np\n",
    "import pandas as pd\n",
    "import matplotlib.pyplot as plt \n",
    "%matplotlib inline"
   ]
  },
  {
   "cell_type": "code",
   "execution_count": 2,
   "id": "e9a6dac3",
   "metadata": {},
   "outputs": [],
   "source": [
    "df_train=pd.read_csv('C:/Users/Admin/Downloads/Bharat Intern T1/Google_Stock_Price_Train.csv')"
   ]
  },
  {
   "cell_type": "code",
   "execution_count": 3,
   "id": "e7177f98",
   "metadata": {},
   "outputs": [
    {
     "data": {
      "text/html": [
       "<div>\n",
       "<style scoped>\n",
       "    .dataframe tbody tr th:only-of-type {\n",
       "        vertical-align: middle;\n",
       "    }\n",
       "\n",
       "    .dataframe tbody tr th {\n",
       "        vertical-align: top;\n",
       "    }\n",
       "\n",
       "    .dataframe thead th {\n",
       "        text-align: right;\n",
       "    }\n",
       "</style>\n",
       "<table border=\"1\" class=\"dataframe\">\n",
       "  <thead>\n",
       "    <tr style=\"text-align: right;\">\n",
       "      <th></th>\n",
       "      <th>Date</th>\n",
       "      <th>Open</th>\n",
       "      <th>High</th>\n",
       "      <th>Low</th>\n",
       "      <th>Close</th>\n",
       "      <th>Volume</th>\n",
       "    </tr>\n",
       "  </thead>\n",
       "  <tbody>\n",
       "    <tr>\n",
       "      <th>0</th>\n",
       "      <td>1/3/2012</td>\n",
       "      <td>325.25</td>\n",
       "      <td>332.83</td>\n",
       "      <td>324.97</td>\n",
       "      <td>663.59</td>\n",
       "      <td>7,380,500</td>\n",
       "    </tr>\n",
       "    <tr>\n",
       "      <th>1</th>\n",
       "      <td>1/4/2012</td>\n",
       "      <td>331.27</td>\n",
       "      <td>333.87</td>\n",
       "      <td>329.08</td>\n",
       "      <td>666.45</td>\n",
       "      <td>5,749,400</td>\n",
       "    </tr>\n",
       "    <tr>\n",
       "      <th>2</th>\n",
       "      <td>1/5/2012</td>\n",
       "      <td>329.83</td>\n",
       "      <td>330.75</td>\n",
       "      <td>326.89</td>\n",
       "      <td>657.21</td>\n",
       "      <td>6,590,300</td>\n",
       "    </tr>\n",
       "    <tr>\n",
       "      <th>3</th>\n",
       "      <td>1/6/2012</td>\n",
       "      <td>328.34</td>\n",
       "      <td>328.77</td>\n",
       "      <td>323.68</td>\n",
       "      <td>648.24</td>\n",
       "      <td>5,405,900</td>\n",
       "    </tr>\n",
       "    <tr>\n",
       "      <th>4</th>\n",
       "      <td>1/9/2012</td>\n",
       "      <td>322.04</td>\n",
       "      <td>322.29</td>\n",
       "      <td>309.46</td>\n",
       "      <td>620.76</td>\n",
       "      <td>11,688,800</td>\n",
       "    </tr>\n",
       "  </tbody>\n",
       "</table>\n",
       "</div>"
      ],
      "text/plain": [
       "       Date    Open    High     Low   Close      Volume\n",
       "0  1/3/2012  325.25  332.83  324.97  663.59   7,380,500\n",
       "1  1/4/2012  331.27  333.87  329.08  666.45   5,749,400\n",
       "2  1/5/2012  329.83  330.75  326.89  657.21   6,590,300\n",
       "3  1/6/2012  328.34  328.77  323.68  648.24   5,405,900\n",
       "4  1/9/2012  322.04  322.29  309.46  620.76  11,688,800"
      ]
     },
     "execution_count": 3,
     "metadata": {},
     "output_type": "execute_result"
    }
   ],
   "source": [
    "df_train.head()"
   ]
  },
  {
   "cell_type": "code",
   "execution_count": 4,
   "id": "bdd6c240",
   "metadata": {},
   "outputs": [
    {
     "data": {
      "text/html": [
       "<div>\n",
       "<style scoped>\n",
       "    .dataframe tbody tr th:only-of-type {\n",
       "        vertical-align: middle;\n",
       "    }\n",
       "\n",
       "    .dataframe tbody tr th {\n",
       "        vertical-align: top;\n",
       "    }\n",
       "\n",
       "    .dataframe thead th {\n",
       "        text-align: right;\n",
       "    }\n",
       "</style>\n",
       "<table border=\"1\" class=\"dataframe\">\n",
       "  <thead>\n",
       "    <tr style=\"text-align: right;\">\n",
       "      <th></th>\n",
       "      <th>Date</th>\n",
       "      <th>Open</th>\n",
       "      <th>High</th>\n",
       "      <th>Low</th>\n",
       "      <th>Close</th>\n",
       "      <th>Volume</th>\n",
       "    </tr>\n",
       "  </thead>\n",
       "  <tbody>\n",
       "    <tr>\n",
       "      <th>1253</th>\n",
       "      <td>12/23/2016</td>\n",
       "      <td>790.90</td>\n",
       "      <td>792.74</td>\n",
       "      <td>787.28</td>\n",
       "      <td>789.91</td>\n",
       "      <td>623,400</td>\n",
       "    </tr>\n",
       "    <tr>\n",
       "      <th>1254</th>\n",
       "      <td>12/27/2016</td>\n",
       "      <td>790.68</td>\n",
       "      <td>797.86</td>\n",
       "      <td>787.66</td>\n",
       "      <td>791.55</td>\n",
       "      <td>789,100</td>\n",
       "    </tr>\n",
       "    <tr>\n",
       "      <th>1255</th>\n",
       "      <td>12/28/2016</td>\n",
       "      <td>793.70</td>\n",
       "      <td>794.23</td>\n",
       "      <td>783.20</td>\n",
       "      <td>785.05</td>\n",
       "      <td>1,153,800</td>\n",
       "    </tr>\n",
       "    <tr>\n",
       "      <th>1256</th>\n",
       "      <td>12/29/2016</td>\n",
       "      <td>783.33</td>\n",
       "      <td>785.93</td>\n",
       "      <td>778.92</td>\n",
       "      <td>782.79</td>\n",
       "      <td>744,300</td>\n",
       "    </tr>\n",
       "    <tr>\n",
       "      <th>1257</th>\n",
       "      <td>12/30/2016</td>\n",
       "      <td>782.75</td>\n",
       "      <td>782.78</td>\n",
       "      <td>770.41</td>\n",
       "      <td>771.82</td>\n",
       "      <td>1,770,000</td>\n",
       "    </tr>\n",
       "  </tbody>\n",
       "</table>\n",
       "</div>"
      ],
      "text/plain": [
       "            Date    Open    High     Low   Close     Volume\n",
       "1253  12/23/2016  790.90  792.74  787.28  789.91    623,400\n",
       "1254  12/27/2016  790.68  797.86  787.66  791.55    789,100\n",
       "1255  12/28/2016  793.70  794.23  783.20  785.05  1,153,800\n",
       "1256  12/29/2016  783.33  785.93  778.92  782.79    744,300\n",
       "1257  12/30/2016  782.75  782.78  770.41  771.82  1,770,000"
      ]
     },
     "execution_count": 4,
     "metadata": {},
     "output_type": "execute_result"
    }
   ],
   "source": [
    "df_train.tail()"
   ]
  },
  {
   "cell_type": "code",
   "execution_count": 5,
   "id": "120600fb",
   "metadata": {},
   "outputs": [
    {
     "name": "stdout",
     "output_type": "stream",
     "text": [
      "            Date    Open    High     Low   Close      Volume\n",
      "0       1/3/2012  325.25  332.83  324.97  663.59   7,380,500\n",
      "1       1/4/2012  331.27  333.87  329.08  666.45   5,749,400\n",
      "2       1/5/2012  329.83  330.75  326.89  657.21   6,590,300\n",
      "3       1/6/2012  328.34  328.77  323.68  648.24   5,405,900\n",
      "4       1/9/2012  322.04  322.29  309.46  620.76  11,688,800\n",
      "...          ...     ...     ...     ...     ...         ...\n",
      "1253  12/23/2016  790.90  792.74  787.28  789.91     623,400\n",
      "1254  12/27/2016  790.68  797.86  787.66  791.55     789,100\n",
      "1255  12/28/2016  793.70  794.23  783.20  785.05   1,153,800\n",
      "1256  12/29/2016  783.33  785.93  778.92  782.79     744,300\n",
      "1257  12/30/2016  782.75  782.78  770.41  771.82   1,770,000\n",
      "\n",
      "[1258 rows x 6 columns]\n",
      "(1258, 6)\n"
     ]
    }
   ],
   "source": [
    "train_set=df_train.iloc[:,1:2].values\n",
    "print(df_train)\n",
    "print(df_train.shape)"
   ]
  },
  {
   "cell_type": "code",
   "execution_count": 6,
   "id": "161e076f",
   "metadata": {},
   "outputs": [
    {
     "data": {
      "text/plain": [
       "array([[0.08581368],\n",
       "       [0.09701243],\n",
       "       [0.09433366],\n",
       "       ...,\n",
       "       [0.95725128],\n",
       "       [0.93796041],\n",
       "       [0.93688146]])"
      ]
     },
     "execution_count": 6,
     "metadata": {},
     "output_type": "execute_result"
    }
   ],
   "source": [
    "from sklearn.preprocessing import MinMaxScaler\n",
    "scaler=MinMaxScaler(feature_range=(0,1)) \n",
    "scaled_train_set=scaler.fit_transform(train_set)\n",
    "scaled_train_set"
   ]
  },
  {
   "cell_type": "code",
   "execution_count": 7,
   "id": "2a363a91",
   "metadata": {},
   "outputs": [],
   "source": [
    "X_train=[]\n",
    "y_train=[]\n",
    "for i in range(60,1258):\n",
    "    X_train.append(scaled_train_set[i-60:i,0])\n",
    "    y_train.append(scaled_train_set[i,0])\n",
    "X_train=np.array(X_train)\n",
    "y_train=np.array(y_train)"
   ]
  },
  {
   "cell_type": "code",
   "execution_count": 8,
   "id": "7a5b8096",
   "metadata": {},
   "outputs": [
    {
     "name": "stdout",
     "output_type": "stream",
     "text": [
      "(1198, 60)\n",
      "(1198,)\n"
     ]
    }
   ],
   "source": [
    "print(X_train.shape)\n",
    "print(y_train.shape)"
   ]
  },
  {
   "cell_type": "code",
   "execution_count": 9,
   "id": "465ed43e",
   "metadata": {},
   "outputs": [
    {
     "data": {
      "text/plain": [
       "(1198, 60, 1)"
      ]
     },
     "execution_count": 9,
     "metadata": {},
     "output_type": "execute_result"
    }
   ],
   "source": [
    "X_train=np.reshape(X_train,(X_train.shape[0],X_train.shape[1],1))\n",
    "X_train.shape"
   ]
  },
  {
   "cell_type": "code",
   "execution_count": 10,
   "id": "59edd6f8",
   "metadata": {},
   "outputs": [],
   "source": [
    "from keras.models import Sequential\n",
    "from keras.layers import LSTM \n",
    "from keras.layers import Dense\n",
    "from keras.layers import Dropout\n"
   ]
  },
  {
   "cell_type": "code",
   "execution_count": 11,
   "id": "859846fd",
   "metadata": {},
   "outputs": [],
   "source": [
    "regressor=Sequential()\n",
    "\n",
    "regressor.add(LSTM(units=50,return_sequences=True,input_shape=(X_train.shape[1],1)))\n",
    "regressor.add(Dropout(0.2))\n",
    "\n",
    "regressor.add(LSTM(units=50,return_sequences=True))\n",
    "regressor.add(Dropout(0.2))\n",
    "\n",
    "regressor.add(LSTM(units=50,return_sequences=True))\n",
    "regressor.add(Dropout(0.2))\n",
    "\n",
    "regressor.add(LSTM(units=50))\n",
    "regressor.add(Dropout(0.2))\n",
    "\n",
    "regressor.add(Dense(units=1))"
   ]
  },
  {
   "cell_type": "code",
   "execution_count": 34,
   "id": "3889a9c0",
   "metadata": {},
   "outputs": [
    {
     "name": "stdout",
     "output_type": "stream",
     "text": [
      "Epoch 1/100\n",
      "38/38 [==============================] - 11s 83ms/step - loss: 0.0030\n",
      "Epoch 2/100\n",
      "38/38 [==============================] - 3s 85ms/step - loss: 0.0024\n",
      "Epoch 3/100\n",
      "38/38 [==============================] - 3s 84ms/step - loss: 0.0024\n",
      "Epoch 4/100\n",
      "38/38 [==============================] - 3s 79ms/step - loss: 0.0023\n",
      "Epoch 5/100\n",
      "38/38 [==============================] - 3s 91ms/step - loss: 0.0025\n",
      "Epoch 6/100\n",
      "38/38 [==============================] - 3s 75ms/step - loss: 0.0023\n",
      "Epoch 7/100\n",
      "38/38 [==============================] - 3s 80ms/step - loss: 0.0025\n",
      "Epoch 8/100\n",
      "38/38 [==============================] - 3s 81ms/step - loss: 0.0033\n",
      "Epoch 9/100\n",
      "38/38 [==============================] - 3s 84ms/step - loss: 0.0022\n",
      "Epoch 10/100\n",
      "38/38 [==============================] - 3s 82ms/step - loss: 0.0020\n",
      "Epoch 11/100\n",
      "38/38 [==============================] - 3s 76ms/step - loss: 0.0021\n",
      "Epoch 12/100\n",
      "38/38 [==============================] - 3s 85ms/step - loss: 0.0020\n",
      "Epoch 13/100\n",
      "38/38 [==============================] - 3s 82ms/step - loss: 0.0019\n",
      "Epoch 14/100\n",
      "38/38 [==============================] - 3s 82ms/step - loss: 0.0019\n",
      "Epoch 15/100\n",
      "38/38 [==============================] - 3s 77ms/step - loss: 0.0019\n",
      "Epoch 16/100\n",
      "38/38 [==============================] - 3s 80ms/step - loss: 0.0023\n",
      "Epoch 17/100\n",
      "38/38 [==============================] - 3s 84ms/step - loss: 0.0021\n",
      "Epoch 18/100\n",
      "38/38 [==============================] - 3s 71ms/step - loss: 0.0018\n",
      "Epoch 19/100\n",
      "38/38 [==============================] - 3s 72ms/step - loss: 0.0019\n",
      "Epoch 20/100\n",
      "38/38 [==============================] - 3s 67ms/step - loss: 0.0018\n",
      "Epoch 21/100\n",
      "38/38 [==============================] - 3s 69ms/step - loss: 0.0017\n",
      "Epoch 22/100\n",
      "38/38 [==============================] - 3s 75ms/step - loss: 0.0018\n",
      "Epoch 23/100\n",
      "38/38 [==============================] - 3s 75ms/step - loss: 0.0020\n",
      "Epoch 24/100\n",
      "38/38 [==============================] - 3s 73ms/step - loss: 0.0018\n",
      "Epoch 25/100\n",
      "38/38 [==============================] - 3s 79ms/step - loss: 0.0016\n",
      "Epoch 26/100\n",
      "38/38 [==============================] - 3s 74ms/step - loss: 0.0017\n",
      "Epoch 27/100\n",
      "38/38 [==============================] - 4s 93ms/step - loss: 0.0018\n",
      "Epoch 28/100\n",
      "38/38 [==============================] - 3s 91ms/step - loss: 0.0016\n",
      "Epoch 29/100\n",
      "38/38 [==============================] - 4s 93ms/step - loss: 0.0017\n",
      "Epoch 30/100\n",
      "38/38 [==============================] - 4s 95ms/step - loss: 0.0017\n",
      "Epoch 31/100\n",
      "38/38 [==============================] - 4s 96ms/step - loss: 0.0015\n",
      "Epoch 32/100\n",
      "38/38 [==============================] - 4s 93ms/step - loss: 0.0017\n",
      "Epoch 33/100\n",
      "38/38 [==============================] - 4s 114ms/step - loss: 0.0015\n",
      "Epoch 34/100\n",
      "38/38 [==============================] - 4s 100ms/step - loss: 0.0020\n",
      "Epoch 35/100\n",
      "38/38 [==============================] - 4s 102ms/step - loss: 0.0014\n",
      "Epoch 36/100\n",
      "38/38 [==============================] - 4s 99ms/step - loss: 0.0014\n",
      "Epoch 37/100\n",
      "38/38 [==============================] - 3s 90ms/step - loss: 0.0018\n",
      "Epoch 38/100\n",
      "38/38 [==============================] - 3s 86ms/step - loss: 0.0020\n",
      "Epoch 39/100\n",
      "38/38 [==============================] - 4s 96ms/step - loss: 0.0016\n",
      "Epoch 40/100\n",
      "38/38 [==============================] - 3s 76ms/step - loss: 0.0015\n",
      "Epoch 41/100\n",
      "38/38 [==============================] - 3s 89ms/step - loss: 0.0015\n",
      "Epoch 42/100\n",
      "38/38 [==============================] - 4s 97ms/step - loss: 0.0015\n",
      "Epoch 43/100\n",
      "38/38 [==============================] - 3s 83ms/step - loss: 0.0014\n",
      "Epoch 44/100\n",
      "38/38 [==============================] - 3s 91ms/step - loss: 0.0015\n",
      "Epoch 45/100\n",
      "38/38 [==============================] - 3s 90ms/step - loss: 0.0014\n",
      "Epoch 46/100\n",
      "38/38 [==============================] - 4s 95ms/step - loss: 0.0013\n",
      "Epoch 47/100\n",
      "38/38 [==============================] - 4s 93ms/step - loss: 0.0013\n",
      "Epoch 48/100\n",
      "38/38 [==============================] - 3s 85ms/step - loss: 0.0014\n",
      "Epoch 49/100\n",
      "38/38 [==============================] - 3s 71ms/step - loss: 0.0016\n",
      "Epoch 50/100\n",
      "38/38 [==============================] - 3s 82ms/step - loss: 0.0017\n",
      "Epoch 51/100\n",
      "38/38 [==============================] - 4s 97ms/step - loss: 0.0013\n",
      "Epoch 52/100\n",
      "38/38 [==============================] - 4s 93ms/step - loss: 0.0014\n",
      "Epoch 53/100\n",
      "38/38 [==============================] - 4s 98ms/step - loss: 0.0014\n",
      "Epoch 54/100\n",
      "38/38 [==============================] - 4s 96ms/step - loss: 0.0015\n",
      "Epoch 55/100\n",
      "38/38 [==============================] - 4s 97ms/step - loss: 0.0012\n",
      "Epoch 56/100\n",
      "38/38 [==============================] - 3s 88ms/step - loss: 0.0013\n",
      "Epoch 57/100\n",
      "38/38 [==============================] - 4s 97ms/step - loss: 0.0015\n",
      "Epoch 58/100\n",
      "38/38 [==============================] - 4s 97ms/step - loss: 0.0013\n",
      "Epoch 59/100\n",
      "38/38 [==============================] - 4s 92ms/step - loss: 0.0014\n",
      "Epoch 60/100\n",
      "38/38 [==============================] - 4s 98ms/step - loss: 0.0015\n",
      "Epoch 61/100\n",
      "38/38 [==============================] - 4s 93ms/step - loss: 0.0013\n",
      "Epoch 62/100\n",
      "38/38 [==============================] - 4s 95ms/step - loss: 0.0013\n",
      "Epoch 63/100\n",
      "38/38 [==============================] - 3s 89ms/step - loss: 0.0013\n",
      "Epoch 64/100\n",
      "38/38 [==============================] - 3s 90ms/step - loss: 0.0014\n",
      "Epoch 65/100\n",
      "38/38 [==============================] - 4s 94ms/step - loss: 0.0012\n",
      "Epoch 66/100\n",
      "38/38 [==============================] - 3s 92ms/step - loss: 0.0013\n",
      "Epoch 67/100\n",
      "38/38 [==============================] - 4s 96ms/step - loss: 0.0012\n",
      "Epoch 68/100\n",
      "38/38 [==============================] - 4s 92ms/step - loss: 0.0013\n",
      "Epoch 69/100\n",
      "38/38 [==============================] - 3s 89ms/step - loss: 0.0012\n",
      "Epoch 70/100\n",
      "38/38 [==============================] - 4s 97ms/step - loss: 0.0014\n",
      "Epoch 71/100\n",
      "38/38 [==============================] - 4s 93ms/step - loss: 0.0011\n",
      "Epoch 72/100\n",
      "38/38 [==============================] - 3s 87ms/step - loss: 0.0010\n",
      "Epoch 73/100\n",
      "38/38 [==============================] - 3s 92ms/step - loss: 0.0011\n",
      "Epoch 74/100\n",
      "38/38 [==============================] - 4s 94ms/step - loss: 0.0012\n",
      "Epoch 75/100\n",
      "38/38 [==============================] - 4s 95ms/step - loss: 0.0013\n",
      "Epoch 76/100\n",
      "38/38 [==============================] - 4s 96ms/step - loss: 0.0012\n",
      "Epoch 77/100\n",
      "38/38 [==============================] - 4s 95ms/step - loss: 0.0014\n",
      "Epoch 78/100\n",
      "38/38 [==============================] - 4s 95ms/step - loss: 0.0014\n",
      "Epoch 79/100\n",
      "38/38 [==============================] - 4s 94ms/step - loss: 0.0011\n",
      "Epoch 80/100\n",
      "38/38 [==============================] - 3s 88ms/step - loss: 0.0011\n",
      "Epoch 81/100\n",
      "38/38 [==============================] - 3s 90ms/step - loss: 0.0010\n",
      "Epoch 82/100\n",
      "38/38 [==============================] - 3s 88ms/step - loss: 0.0012\n",
      "Epoch 83/100\n",
      "38/38 [==============================] - 3s 88ms/step - loss: 0.0013\n",
      "Epoch 84/100\n",
      "38/38 [==============================] - 3s 85ms/step - loss: 0.0012\n",
      "Epoch 85/100\n",
      "38/38 [==============================] - 3s 85ms/step - loss: 0.0013\n",
      "Epoch 86/100\n",
      "38/38 [==============================] - 3s 91ms/step - loss: 0.0013\n",
      "Epoch 87/100\n",
      "38/38 [==============================] - 3s 92ms/step - loss: 0.0013\n",
      "Epoch 88/100\n",
      "38/38 [==============================] - 3s 87ms/step - loss: 0.0011\n",
      "Epoch 89/100\n",
      "38/38 [==============================] - 3s 87ms/step - loss: 0.0011\n",
      "Epoch 90/100\n",
      "38/38 [==============================] - 4s 93ms/step - loss: 0.0011\n",
      "Epoch 91/100\n",
      "38/38 [==============================] - 3s 86ms/step - loss: 0.0011\n",
      "Epoch 92/100\n",
      "38/38 [==============================] - 3s 85ms/step - loss: 0.0010\n",
      "Epoch 93/100\n",
      "38/38 [==============================] - 3s 90ms/step - loss: 0.0011\n",
      "Epoch 94/100\n",
      "38/38 [==============================] - 3s 88ms/step - loss: 0.0012\n",
      "Epoch 95/100\n",
      "38/38 [==============================] - 3s 87ms/step - loss: 0.0011\n",
      "Epoch 96/100\n",
      "38/38 [==============================] - 3s 87ms/step - loss: 0.0013\n",
      "Epoch 97/100\n",
      "38/38 [==============================] - 3s 92ms/step - loss: 0.0012\n",
      "Epoch 98/100\n",
      "38/38 [==============================] - 3s 90ms/step - loss: 0.0012\n",
      "Epoch 99/100\n",
      "38/38 [==============================] - 3s 83ms/step - loss: 0.0011\n",
      "Epoch 100/100\n",
      "38/38 [==============================] - 3s 88ms/step - loss: 0.0011\n"
     ]
    },
    {
     "data": {
      "text/plain": [
       "<keras.callbacks.History at 0x1aea6e72d60>"
      ]
     },
     "execution_count": 34,
     "metadata": {},
     "output_type": "execute_result"
    }
   ],
   "source": [
    "regressor.compile(optimizer='adam',loss='mean_squared_error')\n",
    "regressor.fit(X_train,y_train,epochs=100,batch_size=32)"
   ]
  },
  {
   "cell_type": "code",
   "execution_count": 36,
   "id": "390022c6",
   "metadata": {},
   "outputs": [],
   "source": [
    "df_test=pd.read_csv('C:/Users/Admin/Downloads/Bharat Intern T1/Google_Stock_Price_Train.csv')\n",
    "a_s_p=df_test.iloc[:,1:2].values"
   ]
  },
  {
   "cell_type": "code",
   "execution_count": 41,
   "id": "49aeecbf",
   "metadata": {},
   "outputs": [],
   "source": [
    "df_total=pd.concat((df_train['Open'],df_test['Open']),axis=0) \n",
    "inputs=df_total[len(df_total)-len(df_test)-60].values \n",
    "\n",
    "inputs=inputs.reshape(-1,1)\n",
    "inputs=scaler.transform(inputs)\n",
    "features_set=[]\n",
    "X_test=[]\n",
    "for i in range(60,80):\n",
    "    features_set.append(inputs[i-60:i,0])\n"
   ]
  },
  {
   "cell_type": "code",
   "execution_count": 42,
   "id": "fab9d904",
   "metadata": {},
   "outputs": [
    {
     "data": {
      "text/plain": [
       "array([], shape=(0, 1), dtype=float64)"
      ]
     },
     "execution_count": 42,
     "metadata": {},
     "output_type": "execute_result"
    }
   ],
   "source": [
    "features_set,X_test=(scaled_train_set),np.array(X_test)\n",
    "X_test=np.reshape(X_test,(X_test.shape[0],1)) \n",
    "X_test"
   ]
  },
  {
   "cell_type": "code",
   "execution_count": 43,
   "id": "cd01f10c",
   "metadata": {},
   "outputs": [
    {
     "name": "stdout",
     "output_type": "stream",
     "text": [
      "40/40 [==============================] - 0s 3ms/step\n"
     ]
    }
   ],
   "source": [
    "predicted_stock_price=regressor.predict(features_set)\n",
    "predicted_stock_price=scaler.inverse_transform(predicted_stock_price)"
   ]
  },
  {
   "cell_type": "code",
   "execution_count": 44,
   "id": "930c91bb",
   "metadata": {},
   "outputs": [
    {
     "data": {
      "text/plain": [
       "<matplotlib.legend.Legend at 0x1aeb1e629a0>"
      ]
     },
     "execution_count": 44,
     "metadata": {},
     "output_type": "execute_result"
    },
    {
     "data": {
      "image/png": "[encoded data removed]",
      "text/plain": [
       "<Figure size 432x288 with 1 Axes>"
      ]
     },
     "metadata": {
      "needs_background": "light"
     },
     "output_type": "display_data"
    }
   ],
   "source": [
    "plt.plot(a_s_p,color='red',label='Actual Google Stock Price')\n",
    "plt.plot(predicted_stock_price,color='blue',label='Predicted Google Stock Price')\n",
    "plt.title('Google Stock Price Prediction')\n",
    "plt.xlabel('Time')\n",
    "plt.ylabel('Google Stock Price')\n",
    "plt.legend()"
   ]
  },
  {
   "cell_type": "markdown",
   "id": "bf13e7d7",
   "metadata": {},
   "source": [
    "# Conclusion"
   ]
  },
  {
   "cell_type": "markdown",
   "id": "24138e02",
   "metadata": {},
   "source": [
    "As you can see above, the model can predict the trend of the actual stock prices very closely. \n",
    "The accuracy of the model can be enhanced by training with more data and increasing the LSTM layers.\n",
    "The stock market plays a remarkable role in our daily lives. It is a significant factor in a country's GDP growth."
   ]
  }
 ],
 "metadata": {
  "celltoolbar": "Raw Cell Format",
  "kernelspec": {
   "display_name": "Python 3 (ipykernel)",
   "language": "python",
   "name": "python3"
  },
  "language_info": {
   "codemirror_mode": {
    "name": "ipython",
    "version": 3
   },
   "file_extension": ".py",
   "mimetype": "text/x-python",
   "name": "python",
   "nbconvert_exporter": "python",
   "pygments_lexer": "ipython3",
   "version": "3.9.12"
  }
 },
 "nbformat": 4,
 "nbformat_minor": 5
}
